{
 "cells": [
  {
   "cell_type": "markdown",
   "metadata": {},
   "source": [
    "### Bank Account Manager\n",
    "Create a class called Account which will be an abstract class for three other classes called CheckingAccount, SavingsAccount and BusinessAccount. Manage credits and debits from these accounts through an ATM style program."
   ]
  },
  {
   "cell_type": "code",
   "execution_count": 2,
   "metadata": {},
   "outputs": [],
   "source": [
    "from IPython.display import clear_output as clc\n",
    "from tkinter import * \n",
    "import time\n",
    "\n",
    "class Account:\n",
    "    \n",
    "    def __init__(self,balance = 0,mode='None'):\n",
    "        self.balance = balance\n",
    "        self.mode = mode \n",
    "    \n",
    "    def __str__(self):\n",
    "        return str(self.balance) + '$'\n",
    "    \n",
    "    def add_money(self):\n",
    "        print('Current Balance: {sb}$'.format(sb = self.balance))\n",
    "        s = int(input(\"How much would you like to deposit?\"))\n",
    "        self.balance = self.balance + s\n",
    "        clc()\n",
    "    \n",
    "    def withdrawal(self):\n",
    "        print('Current Balance: {sb}$'.format(sb = self.balance))\n",
    "        w = int(input(\"How much would you like to withdraw?\\n\"))\n",
    "        if w > self.balance:\n",
    "            print(\"Looks like you may overdraw...\\n\")\n",
    "            print(\"Are you sure you want to go into credit?\\n\")\n",
    "            while True:\n",
    "                try:\n",
    "                    ans = input(\"Type 'y' or 'n', for yes or no:\\t  \")\n",
    "                except:\n",
    "                    print(\"Sorry, that is not a valid input.\")\n",
    "                    continue\n",
    "                break\n",
    "        else:\n",
    "            clc()\n",
    "            self.balance = self.balance - w\n",
    "            print(\"Withdrawal Completed!\")\n",
    "            \n",
    "        try:       \n",
    "            if ans.lower() == 'y':\n",
    "                clc()\n",
    "                self.balance = self.balance - w\n",
    "                print(\"OK, current balance: {sb}$\".format(sb = self.balance))\n",
    "            else:\n",
    "                clc()\n",
    "                self.balance = self.balance\n",
    "                print('Sure thing!\\nCurrent Balance: {0}$'.format(self.balance))\n",
    "        except:\n",
    "            pass"
   ]
  },
  {
   "cell_type": "code",
   "execution_count": 3,
   "metadata": {},
   "outputs": [],
   "source": [
    "class CheckingAccount(Account):\n",
    "    \n",
    "    def __init__(self):\n",
    "        Account.__init__(self)\n",
    "        print(\"Checking account created!\")\n",
    "        \n",
    "class SavingsAccount(Account):\n",
    "    \n",
    "    def __init__(self):\n",
    "        Account.__init__(self)\n",
    "        print(\"Savings account created!\")\n",
    "\n",
    "class BusinessAccount(Account):\n",
    "    \n",
    "    def __init__(self):\n",
    "        Account.__init__(self)\n",
    "        print(\"Business account created!\")"
   ]
  },
  {
   "cell_type": "code",
   "execution_count": 4,
   "metadata": {},
   "outputs": [],
   "source": [
    "def Deposit():\n",
    "    clc()\n",
    "    print('DEPOSIT MENU\\n\\n')\n",
    "    while True:\n",
    "        direction = input(\"Where would you like to deposit?\\nChoice of 'c','s','b':\")\n",
    "        if direction in ['c','s','b']:\n",
    "            #amount = int(input(\"Please enter amount: \"))\n",
    "            return direction\n",
    "            break\n",
    "        else:\n",
    "            print(\"Not a valid input, try again!\")\n",
    "            clc()"
   ]
  },
  {
   "cell_type": "code",
   "execution_count": 5,
   "metadata": {},
   "outputs": [],
   "source": [
    "def Withdrawal():\n",
    "    clc()\n",
    "    print(\"WITHDRAWAL MENU\\n\\n\")\n",
    "    while True:\n",
    "        direction = input(\"Where would you like to withdraw from?\\nChoice of 'c','s','b':\\t\") \n",
    "        if direction in ['c','s','b']:\n",
    "            return direction\n",
    "            break\n",
    "        else:\n",
    "            print(\"Not a valid input, try again!\")\n",
    "            clc()"
   ]
  },
  {
   "cell_type": "code",
   "execution_count": 6,
   "metadata": {},
   "outputs": [
    {
     "data": {
      "text/plain": [
       "'def Transfer():\\n    clc()\\n    print(\"TRANSFER MENU\\n\\n\")\\n    while True:\\n        d1 = input(\"(Choice: \\'c\\',\\'s\\',\\'b\\')\\nYou would like to transfer\\nFrom:\\t\")\\n        d2 = input(\"To:\\t\")\\n        if d1 == d2:\\n            print(\"Sorry, you cannot transfer from the same account!\")\\n            continue\\n        elif d1 == \\'c\\':\\n            c_acc.withdrawal()\\n            if d2 == \\'s\\':\\n                s_acc.deposit()\\n            elif d2 = \\'b\\':\\n                \\n        elif d1 == \\'s\\':\\n            \\n        elif d1 == \\'b\\':\\n            '"
      ]
     },
     "execution_count": 6,
     "metadata": {},
     "output_type": "execute_result"
    }
   ],
   "source": [
    "'''def Transfer():\n",
    "    clc()\n",
    "    print(\"TRANSFER MENU\\n\\n\")\n",
    "    while True:\n",
    "        d1 = input(\"(Choice: 'c','s','b')\\nYou would like to transfer\\nFrom:\\t\")\n",
    "        d2 = input(\"To:\\t\")\n",
    "        if d1 == d2:\n",
    "            print(\"Sorry, you cannot transfer from the same account!\")\n",
    "            continue\n",
    "        elif d1 == 'c':\n",
    "            c_acc.withdrawal()\n",
    "            if d2 == 's':\n",
    "                s_acc.deposit()\n",
    "            elif d2 = 'b':\n",
    "                \n",
    "        elif d1 == 's':\n",
    "            \n",
    "        elif d1 == 'b':\n",
    "            '''"
   ]
  },
  {
   "cell_type": "code",
   "execution_count": 7,
   "metadata": {},
   "outputs": [],
   "source": [
    "def ATM_intro():\n",
    "    print(\"Welcome to Bank Of The People!\\n\\n\")\n",
    "    print(\"Please specify your card type: credit or debit?\")\n",
    "    card_t = input(\"Please push 'c' or 'd':\\t \")\n",
    "    print('Great! Now, let us set up your accounts!\\n')\n",
    "    print('One moment please!')\n",
    "    dot = '.'\n",
    "    for i in range(5):\n",
    "        time.sleep(1)\n",
    "        print(dot)\n",
    "    global c_acc, s_acc, b_acc\n",
    "    c_acc = CheckingAccount()\n",
    "    s_acc = SavingsAccount()\n",
    "    b_acc = BusinessAccount()\n",
    "    print(\"\\nThanks for waiting! You are all set up.\\n\")\n",
    "    time.sleep(5)\n",
    "    \n",
    "    clc()"
   ]
  },
  {
   "cell_type": "code",
   "execution_count": 8,
   "metadata": {},
   "outputs": [],
   "source": [
    "def ATM_OP():\n",
    "    ATM_intro()\n",
    "    Operating = True\n",
    "    while Operating:\n",
    "        clc()\n",
    "        print(\"MAIN MENU\\n\\n\")\n",
    "        print(\"Deposit: type 'd'\")\n",
    "        print(\"Withdrawal: type 'w'\")\n",
    "        print(\"Transfer: type 't'\")\n",
    "        print(\"Balance: type 'b'\")\n",
    "        print(\"Exit ATM: type 'e'\")\n",
    "\n",
    "        while True:\n",
    "            ch = input('Enter: ')\n",
    "            if ch not in ['d','w','t','b','e']:\n",
    "                print('Wrong input. Try again!')\n",
    "            else:\n",
    "                break\n",
    "                \n",
    "        if ch.lower() == 'e':\n",
    "            break\n",
    "            \n",
    "        InCurrentMenu = True\n",
    "        #Transferring to various operations menu (deposit,withdrawal,transfer)\n",
    "        while InCurrentMenu:\n",
    "            if ch.lower() == 'd':\n",
    "                clc()            \n",
    "                d = Deposit()\n",
    "                if d == 'c':\n",
    "                    c_acc.add_money()\n",
    "                elif d == 's':\n",
    "                    s_acc.add_money()\n",
    "                elif d == 'b':\n",
    "                    b_acc.add_money()\n",
    "                    \n",
    "                print(\"Deposit Completed\")\n",
    "                # Ask whether or not the user wants to stay in the current menu      \n",
    "                cont = input(\"Would you like to stay in this menu? Type 'y' or 'n'\\n\")\n",
    "                if cont == 'y':\n",
    "                    continue\n",
    "                else:\n",
    "                    break\n",
    "            elif ch.lower() == 'w':\n",
    "                clc()\n",
    "                w = Withdrawal()\n",
    "                if w == 'c':\n",
    "                    c_acc.withdrawal()\n",
    "                elif w == 's':\n",
    "                    s_acc.withdrawal()\n",
    "                elif w == 'b':\n",
    "                    b_acc.withdrawal()\n",
    "                    \n",
    "                # Ask whether or not the user wants to stay in the current menu    \n",
    "                cont = input(\"Would you like to stay in this menu? Type 'y' or 'n'\\n\")\n",
    "                \n",
    "                if cont == 'y':\n",
    "                    continue\n",
    "                else:\n",
    "                    break\n",
    "            elif ch.lower() == 'b':\n",
    "                clc()\n",
    "                print(f'Checking: {c_acc.balance}$\\nSavings: {s_acc.balance}$\\nBusiness: {b_acc.balance}$\\n')\n",
    "                input(\"Press 'Enter' to continue...\")\n",
    "                break\n",
    "    \n",
    "    clc()\n",
    "    print(\"Thank you for using our ATM.\\n\")\n",
    "    print(\"Have a good day!\")\n",
    "    time.sleep(4)\n",
    "    clc()"
   ]
  },
  {
   "cell_type": "code",
   "execution_count": 9,
   "metadata": {},
   "outputs": [],
   "source": [
    "ATM_OP()"
   ]
  },
  {
   "cell_type": "code",
   "execution_count": null,
   "metadata": {},
   "outputs": [],
   "source": []
  },
  {
   "cell_type": "code",
   "execution_count": null,
   "metadata": {},
   "outputs": [],
   "source": []
  },
  {
   "cell_type": "code",
   "execution_count": null,
   "metadata": {},
   "outputs": [],
   "source": []
  },
  {
   "cell_type": "code",
   "execution_count": null,
   "metadata": {},
   "outputs": [],
   "source": []
  },
  {
   "cell_type": "code",
   "execution_count": null,
   "metadata": {},
   "outputs": [],
   "source": []
  }
 ],
 "metadata": {
  "kernelspec": {
   "display_name": "Python 3",
   "language": "python",
   "name": "python3"
  },
  "language_info": {
   "codemirror_mode": {
    "name": "ipython",
    "version": 3
   },
   "file_extension": ".py",
   "mimetype": "text/x-python",
   "name": "python",
   "nbconvert_exporter": "python",
   "pygments_lexer": "ipython3",
   "version": "3.7.1"
  }
 },
 "nbformat": 4,
 "nbformat_minor": 2
}
